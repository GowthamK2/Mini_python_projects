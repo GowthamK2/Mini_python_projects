{
 "cells": [
  {
   "cell_type": "code",
   "execution_count": 47,
   "id": "a80dcf49",
   "metadata": {},
   "outputs": [],
   "source": [
    "from IPython.display import clear_output"
   ]
  },
  {
   "cell_type": "code",
   "execution_count": 48,
   "id": "449b1258",
   "metadata": {},
   "outputs": [
    {
     "name": "stdout",
     "output_type": "stream",
     "text": [
      "M = 0 C = 0 |------B| M = 3 C = 3\n",
      "Invalid Move\n",
      "M =  1 C = 1 |B------| M = 2 C =  2\n",
      "M = 1 C =  0 |------B| M =  2 C =  3\n",
      "YOU LOSE\n",
      "M =  2 C = 1 |B------| M = 1 C =  2\n",
      "YOU LOSE\n",
      "M = 2 C =  0 |------B| M =  1 C =  3\n",
      "YOU LOSE\n",
      "Invalid Move\n",
      "YOU QUIT, GAME OVER!\n"
     ]
    }
   ],
   "source": [
    "boat_side = \"Right\"\n",
    "missionaries_on_right = 3 \n",
    "cannibals_on_right = 3\n",
    "missionaries_on_left = 0\n",
    "cannibals_on_left = 0\n",
    "\n",
    "print(\"M =\",missionaries_on_left, \"C =\",cannibals_on_left, \"|------B|\", \"M =\",missionaries_on_right, \"C =\",cannibals_on_right)\n",
    "\n",
    "while True:\n",
    "    missionaries = int(input(\"No of missionaries or enter 10 to quit: \"))\n",
    "    if missionaries == 10:\n",
    "        print(\"YOU QUIT, GAME OVER!\")\n",
    "        break\n",
    "    cannibals = int(input(\"No of cannibals : \"))\n",
    "\n",
    "    if (missionaries + cannibals) != 1 and (missionaries + cannibals) != 2:\n",
    "        print(\"Invalid Move\")\n",
    "        continue\n",
    "\n",
    "    if boat_side == \"Right\":\n",
    "        if (missionaries_on_right < missionaries) or (cannibals_on_right < cannibals):\n",
    "            print(\"Invalid Move\")\n",
    "        \n",
    "        missionaries_on_right = missionaries_on_right - missionaries\n",
    "        cannibals_on_right = cannibals_on_right - cannibals\n",
    "    \n",
    "        missionaries_on_left += missionaries\n",
    "        cannibals_on_left += cannibals\n",
    "    \n",
    "        print(\"M = \",missionaries_on_left, \"C =\",cannibals_on_left, \"|B------|\", \"M =\",missionaries_on_right, \"C = \",cannibals_on_right)\n",
    "    \n",
    "        boat_side = \"Left\"\n",
    "    else:\n",
    "        if missionaries_on_left < missionaries or cannibals_on_left < cannibals:\n",
    "            print(\"Invalid move\")\n",
    "        \n",
    "        missionaries_on_left = missionaries_on_left - missionaries\n",
    "        cannibals_on_left = cannibals_on_left - cannibals\n",
    "    \n",
    "        missionaries_on_right += missionaries\n",
    "        cannibals_on_right += cannibals\n",
    "    \n",
    "        print(\"M =\",missionaries_on_left, \"C = \",cannibals_on_left, \"|------B|\", \"M = \", missionaries_on_right, \"C = \",cannibals_on_right)\n",
    "        boat_side = 'Right'\n",
    "    \n",
    "    if (missionaries_on_right < cannibals_on_right and missionaries_on_right > 0) or (missionaries_on_left < cannibals_on_left and missionaries_on_left < 0):\n",
    "        print(\"YOU LOSE\")\n",
    "    \n",
    "    if missionaries_on_left == 3 and cannibals_on_left == 3:\n",
    "        print(\"YOU WIN\")\n",
    "        \n"
   ]
  }
 ],
 "metadata": {
  "kernelspec": {
   "display_name": "base",
   "language": "python",
   "name": "python3"
  },
  "language_info": {
   "codemirror_mode": {
    "name": "ipython",
    "version": 3
   },
   "file_extension": ".py",
   "mimetype": "text/x-python",
   "name": "python",
   "nbconvert_exporter": "python",
   "pygments_lexer": "ipython3",
   "version": "3.12.7"
  }
 },
 "nbformat": 4,
 "nbformat_minor": 5
}
